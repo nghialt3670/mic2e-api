{
 "cells": [
  {
   "cell_type": "markdown",
   "id": "665ae97e",
   "metadata": {},
   "source": [
    "# Chat2Edit Functions Test Notebook\n",
    "\n",
    "This notebook tests the chat2edit functions, decorators, and feedbacks to ensure they work correctly.\n"
   ]
  },
  {
   "cell_type": "code",
   "execution_count": 1,
   "id": "654cac52",
   "metadata": {},
   "outputs": [],
   "source": [
    "import sys\n",
    "sys.path.append('../..')"
   ]
  },
  {
   "cell_type": "code",
   "execution_count": 2,
   "id": "bb910e5d",
   "metadata": {},
   "outputs": [
    {
     "name": "stdout",
     "output_type": "stream",
     "text": [
      "✅ All imports successful!\n"
     ]
    }
   ],
   "source": [
    "# Import necessary modules\n",
    "import asyncio\n",
    "from PIL import Image as PILImage\n",
    "from typing import List\n",
    "\n",
    "# Import our functions\n",
    "from core.chat2edit.functions import (\n",
    "    apply_filter,\n",
    "    extract_object_by_sam,\n",
    "    extract_objects_by_label,\n",
    "    locate_entities,\n",
    "    remove_entities,\n",
    "    shift_entities\n",
    ")\n",
    "\n",
    "# Import models\n",
    "from core.chat2edit.models.image import Image\n",
    "from core.chat2edit.models.object import Object\n",
    "from core.chat2edit.models.box import Box\n",
    "from core.chat2edit.models.point import Point\n",
    "\n",
    "# Import feedbacks to test error handling\n",
    "from core.chat2edit.feedbacks import (\n",
    "    EmptyListParametersFeedback,\n",
    "    MismatchListParametersFeedback,\n",
    "    MissingAllOptionalParametersFeedback\n",
    ")\n",
    "\n",
    "print(\"✅ All imports successful!\")\n"
   ]
  },
  {
   "cell_type": "markdown",
   "id": "c5cfde13",
   "metadata": {},
   "source": [
    "## 1. Create Test Image and Objects\n"
   ]
  },
  {
   "cell_type": "code",
   "execution_count": 3,
   "id": "9dc84e03",
   "metadata": {},
   "outputs": [
    {
     "name": "stdout",
     "output_type": "stream",
     "text": [
      "✅ Created test image with 3 objects\n",
      "Image size: (500, 375)\n",
      "Object1 position: (50, 50)\n",
      "Object2 position: (200, 100)\n"
     ]
    }
   ],
   "source": [
    "# Create a simple test image\n",
    "test_image = PILImage.open(\"../../resources/images/pexels-photo-1108099.webp\")\n",
    "image = Image.from_image(test_image)\n",
    "\n",
    "# Create test objects\n",
    "object1 = Object()\n",
    "object1.left = 50\n",
    "object1.top = 50\n",
    "object1.width = 100\n",
    "object1.height = 80\n",
    "\n",
    "object2 = Object()\n",
    "object2.left = 200\n",
    "object2.top = 100\n",
    "object2.width = 120\n",
    "object2.height = 90\n",
    "\n",
    "# Add objects to image\n",
    "image.add_objects([object1, object2])\n",
    "\n",
    "print(f\"✅ Created test image with {len(image.objects)} objects\")\n",
    "print(f\"Image size: {image.get_image().size}\")\n",
    "print(f\"Object1 position: ({object1.left}, {object1.top})\")\n",
    "print(f\"Object2 position: ({object2.left}, {object2.top})\")\n"
   ]
  },
  {
   "cell_type": "markdown",
   "id": "c85c0551",
   "metadata": {},
   "source": [
    "## 2. Test apply_filter Function\n"
   ]
  },
  {
   "cell_type": "code",
   "execution_count": 4,
   "id": "5d7801b3",
   "metadata": {},
   "outputs": [
    {
     "name": "stdout",
     "output_type": "stream",
     "text": [
      "✅ Applied blackWhite filter\n",
      "✅ Applied blur filter with value 2.0\n",
      "✅ Applied brightness filter with value 0.3\n",
      "✅ apply_filter test completed. Image has 3 objects\n"
     ]
    }
   ],
   "source": [
    "async def test_apply_filter():\n",
    "    \"\"\"Test the apply_filter function with different filters.\"\"\"\n",
    "    entities = [object1, object2]\n",
    "    \n",
    "    # Test black and white filter\n",
    "    result_image = await apply_filter(\n",
    "        image=image,\n",
    "        entities=entities,\n",
    "        filter_name=\"blackWhite\"\n",
    "    )\n",
    "    print(\"✅ Applied blackWhite filter\")\n",
    "    \n",
    "    # Test blur filter with value\n",
    "    result_image = await apply_filter(\n",
    "        image=result_image,\n",
    "        entities=entities,\n",
    "        filter_name=\"blur\",\n",
    "        filter_value=2.0\n",
    "    )\n",
    "    print(\"✅ Applied blur filter with value 2.0\")\n",
    "    \n",
    "    # Test brightness filter\n",
    "    result_image = await apply_filter(\n",
    "        image=result_image,\n",
    "        entities=entities,\n",
    "        filter_name=\"brightness\",\n",
    "        filter_value=0.3\n",
    "    )\n",
    "    print(\"✅ Applied brightness filter with value 0.3\")\n",
    "    \n",
    "    return result_image\n",
    "\n",
    "# Run the test\n",
    "result_image = await test_apply_filter()\n",
    "print(f\"✅ apply_filter test completed. Image has {len(result_image.objects)} objects\")\n"
   ]
  },
  {
   "cell_type": "code",
   "execution_count": 6,
   "id": "c1d2e105",
   "metadata": {},
   "outputs": [
    {
     "name": "stderr",
     "output_type": "stream",
     "text": [
      "C:\\Users\\nghia\\AppData\\Local\\Temp\\ipykernel_3336\\3960248460.py:1: PydanticDeprecatedSince20: The `dict` method is deprecated; use `model_dump` instead. Deprecated in Pydantic V2.0 to be removed in V3.0. See Pydantic V2 Migration Guide at https://errors.pydantic.dev/2.12/migration/\n",
      "  result_image.dict()\n"
     ]
    },
    {
     "data": {
      "text/plain": [
       "{'id': '',\n",
       " 'type': 'Group',\n",
       " 'version': '6.7.1',\n",
       " 'originX': 'left',\n",
       " 'originY': 'top',\n",
       " 'left': 0,\n",
       " 'top': 0,\n",
       " 'width': 0,\n",
       " 'height': 0,\n",
       " 'fill': 'rgb(0,0,0)',\n",
       " 'stroke': None,\n",
       " 'strokeWidth': 0,\n",
       " 'strokeDashArray': None,\n",
       " 'strokeLineCap': 'butt',\n",
       " 'strokeDashOffset': 0,\n",
       " 'strokeLineJoin': 'miter',\n",
       " 'strokeUniform': False,\n",
       " 'strokeMiterLimit': 4,\n",
       " 'scaleX': 1,\n",
       " 'scaleY': 1,\n",
       " 'angle': 0,\n",
       " 'flipX': False,\n",
       " 'flipY': False,\n",
       " 'skewX': 0,\n",
       " 'skewY': 0,\n",
       " 'opacity': 1,\n",
       " 'shadow': None,\n",
       " 'visible': True,\n",
       " 'backgroundColor': '',\n",
       " 'fillRule': 'nonzero',\n",
       " 'paintFirst': 'fill',\n",
       " 'globalCompositeOperation': 'source-over',\n",
       " 'subTargetCheck': False,\n",
       " 'interactive': False,\n",
       " 'layoutManager': {'type': 'layoutManager', 'strategy': 'fit-content'},\n",
       " 'objects': [{'id': '',\n",
       "   'type': 'Image',\n",
       "   'version': '6.7.1',\n",
       "   'originX': 'left',\n",
       "   'originY': 'top',\n",
       "   'left': 0,\n",
       "   'top': 0,\n",
       "   'width': 500.0,\n",
       "   'height': 375.0,\n",
       "   'fill': 'rgb(0,0,0)',\n",
       "   'stroke': None,\n",
       "   'strokeWidth': 1,\n",
       "   'strokeDashArray': None,\n",
       "   'strokeLineCap': 'butt',\n",
       "   'strokeDashOffset': 0,\n",
       "   'strokeLineJoin': 'miter',\n",
       "   'strokeUniform': False,\n",
       "   'strokeMiterLimit': 4,\n",
       "   'scaleX': 1,\n",
       "   'scaleY': 1,\n",
       "   'angle': 0,\n",
       "   'flipX': False,\n",
       "   'flipY': False,\n",
       "   'skewX': 0,\n",
       "   'skewY': 0,\n",
       "   'opacity': 1,\n",
       "   'shadow': None,\n",
       "   'visible': True,\n",
       "   'backgroundColor': '',\n",
       "   'fillRule': 'nonzero',\n",
       "   'paintFirst': 'fill',\n",
       "   'globalCompositeOperation': 'source-over'},\n",
       "  {'id': '',\n",
       "   'type': 'Image',\n",
       "   'version': '6.7.1',\n",
       "   'originX': 'left',\n",
       "   'originY': 'top',\n",
       "   'left': 50,\n",
       "   'top': 50,\n",
       "   'width': 100,\n",
       "   'height': 80,\n",
       "   'fill': 'rgb(0,0,0)',\n",
       "   'stroke': None,\n",
       "   'strokeWidth': 1,\n",
       "   'strokeDashArray': None,\n",
       "   'strokeLineCap': 'butt',\n",
       "   'strokeDashOffset': 0,\n",
       "   'strokeLineJoin': 'miter',\n",
       "   'strokeUniform': False,\n",
       "   'strokeMiterLimit': 4,\n",
       "   'scaleX': 1,\n",
       "   'scaleY': 1,\n",
       "   'angle': 0,\n",
       "   'flipX': False,\n",
       "   'flipY': False,\n",
       "   'skewX': 0,\n",
       "   'skewY': 0,\n",
       "   'opacity': 1,\n",
       "   'shadow': None,\n",
       "   'visible': True,\n",
       "   'backgroundColor': '',\n",
       "   'fillRule': 'nonzero',\n",
       "   'paintFirst': 'fill',\n",
       "   'globalCompositeOperation': 'source-over'},\n",
       "  {'id': '',\n",
       "   'type': 'Image',\n",
       "   'version': '6.7.1',\n",
       "   'originX': 'left',\n",
       "   'originY': 'top',\n",
       "   'left': 200,\n",
       "   'top': 100,\n",
       "   'width': 120,\n",
       "   'height': 90,\n",
       "   'fill': 'rgb(0,0,0)',\n",
       "   'stroke': None,\n",
       "   'strokeWidth': 1,\n",
       "   'strokeDashArray': None,\n",
       "   'strokeLineCap': 'butt',\n",
       "   'strokeDashOffset': 0,\n",
       "   'strokeLineJoin': 'miter',\n",
       "   'strokeUniform': False,\n",
       "   'strokeMiterLimit': 4,\n",
       "   'scaleX': 1,\n",
       "   'scaleY': 1,\n",
       "   'angle': 0,\n",
       "   'flipX': False,\n",
       "   'flipY': False,\n",
       "   'skewX': 0,\n",
       "   'skewY': 0,\n",
       "   'opacity': 1,\n",
       "   'shadow': None,\n",
       "   'visible': True,\n",
       "   'backgroundColor': '',\n",
       "   'fillRule': 'nonzero',\n",
       "   'paintFirst': 'fill',\n",
       "   'globalCompositeOperation': 'source-over'}]}"
      ]
     },
     "execution_count": 6,
     "metadata": {},
     "output_type": "execute_result"
    }
   ],
   "source": [
    "result_image.dict()"
   ]
  },
  {
   "cell_type": "markdown",
   "id": "b736b00a",
   "metadata": {},
   "source": [
    "## 3. Test locate_entities Function\n"
   ]
  },
  {
   "cell_type": "code",
   "execution_count": 5,
   "id": "e54d9b4a",
   "metadata": {},
   "outputs": [
    {
     "ename": "UnboundLocalError",
     "evalue": "local variable 'result_image' referenced before assignment",
     "output_type": "error",
     "traceback": [
      "\u001b[1;31m---------------------------------------------------------------------------\u001b[0m",
      "\u001b[1;31mUnboundLocalError\u001b[0m                         Traceback (most recent call last)",
      "Cell \u001b[1;32mIn[5], line 19\u001b[0m\n\u001b[0;32m     16\u001b[0m     \u001b[38;5;28;01mreturn\u001b[39;00m result_image\n\u001b[0;32m     18\u001b[0m \u001b[38;5;66;03m# Run the test\u001b[39;00m\n\u001b[1;32m---> 19\u001b[0m result_image \u001b[38;5;241m=\u001b[39m \u001b[38;5;28;01mawait\u001b[39;00m test_locate_entities()\n",
      "Cell \u001b[1;32mIn[5], line 7\u001b[0m, in \u001b[0;36mtest_locate_entities\u001b[1;34m()\u001b[0m\n\u001b[0;32m      3\u001b[0m entities \u001b[38;5;241m=\u001b[39m [object1, object2]\n\u001b[0;32m      4\u001b[0m locations \u001b[38;5;241m=\u001b[39m [\u001b[38;5;124m\"\u001b[39m\u001b[38;5;124mtop-left\u001b[39m\u001b[38;5;124m\"\u001b[39m, \u001b[38;5;124m\"\u001b[39m\u001b[38;5;124mbottom-right\u001b[39m\u001b[38;5;124m\"\u001b[39m]\n\u001b[0;32m      6\u001b[0m result_image \u001b[38;5;241m=\u001b[39m \u001b[38;5;28;01mawait\u001b[39;00m locate_entities(\n\u001b[1;32m----> 7\u001b[0m     image\u001b[38;5;241m=\u001b[39mresult_image,\n\u001b[0;32m      8\u001b[0m     entities\u001b[38;5;241m=\u001b[39mentities,\n\u001b[0;32m      9\u001b[0m     locations\u001b[38;5;241m=\u001b[39mlocations\n\u001b[0;32m     10\u001b[0m )\n\u001b[0;32m     12\u001b[0m \u001b[38;5;28mprint\u001b[39m(\u001b[38;5;124mf\u001b[39m\u001b[38;5;124m\"\u001b[39m\u001b[38;5;124m✅ Moved entities to positions: \u001b[39m\u001b[38;5;132;01m{\u001b[39;00mlocations\u001b[38;5;132;01m}\u001b[39;00m\u001b[38;5;124m\"\u001b[39m)\n\u001b[0;32m     13\u001b[0m \u001b[38;5;28mprint\u001b[39m(\u001b[38;5;124mf\u001b[39m\u001b[38;5;124m\"\u001b[39m\u001b[38;5;124mObject1 new position: (\u001b[39m\u001b[38;5;132;01m{\u001b[39;00mobject1\u001b[38;5;241m.\u001b[39mleft\u001b[38;5;132;01m}\u001b[39;00m\u001b[38;5;124m, \u001b[39m\u001b[38;5;132;01m{\u001b[39;00mobject1\u001b[38;5;241m.\u001b[39mtop\u001b[38;5;132;01m}\u001b[39;00m\u001b[38;5;124m)\u001b[39m\u001b[38;5;124m\"\u001b[39m)\n",
      "\u001b[1;31mUnboundLocalError\u001b[0m: local variable 'result_image' referenced before assignment"
     ]
    }
   ],
   "source": [
    "async def test_locate_entities():\n",
    "    \"\"\"Test the locate_entities function.\"\"\"\n",
    "    entities = [object1, object2]\n",
    "    locations = [\"top-left\", \"bottom-right\"]\n",
    "    \n",
    "    result_image = await locate_entities(\n",
    "        image=result_image,\n",
    "        entities=entities,\n",
    "        locations=locations\n",
    "    )\n",
    "    \n",
    "    print(f\"✅ Moved entities to positions: {locations}\")\n",
    "    print(f\"Object1 new position: ({object1.left}, {object1.top})\")\n",
    "    print(f\"Object2 new position: ({object2.left}, {object2.top})\")\n",
    "    \n",
    "    return result_image\n",
    "\n",
    "# Run the test\n",
    "result_image = await test_locate_entities()\n"
   ]
  },
  {
   "cell_type": "markdown",
   "id": "af57e9e8",
   "metadata": {},
   "source": [
    "## 4. Test shift_entities Function\n"
   ]
  },
  {
   "cell_type": "code",
   "execution_count": null,
   "id": "5b32de90",
   "metadata": {},
   "outputs": [],
   "source": [
    "async def test_shift_entities():\n",
    "    \"\"\"Test the shift_entities function.\"\"\"\n",
    "    entities = [object1, object2]\n",
    "    offsets = [(10, 20), (-15, 30)]\n",
    "    \n",
    "    result_image = await shift_entities(\n",
    "        image=result_image,\n",
    "        entities=entities,\n",
    "        offsets=offsets,\n",
    "        unit=\"pixel\"\n",
    "    )\n",
    "    \n",
    "    print(f\"✅ Shifted entities by offsets: {offsets}\")\n",
    "    print(f\"Object1 new position: ({object1.left}, {object1.top})\")\n",
    "    print(f\"Object2 new position: ({object2.left}, {object2.top})\")\n",
    "    \n",
    "    return result_image\n",
    "\n",
    "# Run the test\n",
    "result_image = await test_shift_entities()\n"
   ]
  },
  {
   "cell_type": "markdown",
   "id": "6782bc76",
   "metadata": {},
   "source": [
    "## 5. Test Error Handling (Feedbacks)\n"
   ]
  },
  {
   "cell_type": "code",
   "execution_count": null,
   "id": "efb4c7fa",
   "metadata": {},
   "outputs": [],
   "source": [
    "async def test_error_handling():\n",
    "    \"\"\"Test error handling with various feedback scenarios.\"\"\"\n",
    "    \n",
    "    # Test 1: Empty entities list (should trigger EmptyListParametersFeedback)\n",
    "    try:\n",
    "        await apply_filter(\n",
    "            image=result_image,\n",
    "            entities=[],  # Empty list\n",
    "            filter_name=\"brightness\"\n",
    "        )\n",
    "        print(\"❌ Empty entities test failed - should have raised error\")\n",
    "    except Exception as e:\n",
    "        print(f\"✅ Empty entities test passed - caught error: {type(e).__name__}\")\n",
    "    \n",
    "    # Test 2: Mismatched list lengths (should trigger MismatchListParametersFeedback)\n",
    "    try:\n",
    "        await locate_entities(\n",
    "            image=result_image,\n",
    "            entities=[object1, object2],  # 2 entities\n",
    "            locations=[\"center\"]  # 1 location\n",
    "        )\n",
    "        print(\"❌ Mismatched lengths test failed - should have raised error\")\n",
    "    except Exception as e:\n",
    "        print(f\"✅ Mismatched lengths test passed - caught error: {type(e).__name__}\")\n",
    "    \n",
    "    # Test 3: Missing all optional parameters (should trigger MissingAllOptionalParameterFeedback)\n",
    "    try:\n",
    "        await extract_object_by_sam(\n",
    "            image=result_image\n",
    "            # No box, mask, or points provided\n",
    "        )\n",
    "        print(\"❌ Missing parameters test failed - should have raised error\")\n",
    "    except Exception as e:\n",
    "        print(f\"✅ Missing parameters test passed - caught error: {type(e).__name__}\")\n",
    "\n",
    "# Run error handling tests\n",
    "await test_error_handling()\n"
   ]
  },
  {
   "cell_type": "markdown",
   "id": "fbe1c14a",
   "metadata": {},
   "source": [
    "## 6. Test remove_entities Function\n"
   ]
  },
  {
   "cell_type": "code",
   "execution_count": null,
   "id": "b67b95a6",
   "metadata": {},
   "outputs": [],
   "source": [
    "async def test_remove_entities():\n",
    "    \"\"\"Test the remove_entities function.\"\"\"\n",
    "    # Create a copy for testing removal\n",
    "    test_image_copy = Image.from_image(result_image.get_image())\n",
    "    test_image_copy.add_objects([object1, object2])\n",
    "    \n",
    "    entities_to_remove = [object1]\n",
    "    \n",
    "    result_image = await remove_entities(\n",
    "        image=test_image_copy,\n",
    "        entities=entities_to_remove\n",
    "    )\n",
    "    \n",
    "    print(f\"✅ Removed {len(entities_to_remove)} entities\")\n",
    "    print(f\"Remaining objects in image: {len(result_image.objects)}\")\n",
    "    \n",
    "    return result_image\n",
    "\n",
    "# Run the test\n",
    "result_image = await test_remove_entities()\n"
   ]
  },
  {
   "cell_type": "markdown",
   "id": "58adfc66",
   "metadata": {},
   "source": [
    "## 7. Test Filter Application on Objects\n"
   ]
  },
  {
   "cell_type": "code",
   "execution_count": null,
   "id": "e154ae68",
   "metadata": {},
   "outputs": [],
   "source": [
    "async def test_filter_on_objects():\n",
    "    \"\"\"Test applying filters specifically to objects.\"\"\"\n",
    "    # Check if objects have filters applied\n",
    "    for i, obj in enumerate(result_image.objects):\n",
    "        print(f\"Object {i+1} filters: {len(obj.filters)} filters applied\")\n",
    "        for j, filter_dict in enumerate(obj.filters):\n",
    "            print(f\"  Filter {j+1}: {filter_dict.get('type', 'Unknown')}\")\n",
    "    \n",
    "    # Apply one more filter\n",
    "    if result_image.objects:\n",
    "        result_image = await apply_filter(\n",
    "            image=result_image,\n",
    "            entities=result_image.objects,\n",
    "            filter_name=\"contrast\",\n",
    "            filter_value=1.5\n",
    "        )\n",
    "        print(\"✅ Applied contrast filter to remaining objects\")\n",
    "    \n",
    "    return result_image\n",
    "\n",
    "# Run the test\n",
    "result_image = await test_filter_on_objects()\n"
   ]
  },
  {
   "cell_type": "markdown",
   "id": "673bb96b",
   "metadata": {},
   "source": [
    "## 8. Summary and Validation\n"
   ]
  },
  {
   "cell_type": "code",
   "execution_count": null,
   "id": "d4df3d1c",
   "metadata": {},
   "outputs": [],
   "source": [
    "def validate_test_results():\n",
    "    \"\"\"Validate that all tests completed successfully.\"\"\"\n",
    "    print(\"\\n\" + \"=\"*50)\n",
    "    print(\"TEST SUMMARY\")\n",
    "    print(\"=\"*50)\n",
    "    \n",
    "    # Check image state\n",
    "    print(f\"✅ Image size: {result_image.get_image().size}\")\n",
    "    print(f\"✅ Objects in image: {len(result_image.objects)}\")\n",
    "    \n",
    "    # Check object properties\n",
    "    for i, obj in enumerate(result_image.objects):\n",
    "        print(f\"✅ Object {i+1}: position=({obj.left}, {obj.top}), filters={len(obj.filters)}\")\n",
    "    \n",
    "    print(\"\\n✅ All functions tested successfully!\")\n",
    "    print(\"✅ Decorators working correctly!\")\n",
    "    print(\"✅ Feedbacks handling errors properly!\")\n",
    "    print(\"\\n🎉 Test notebook completed successfully!\")\n",
    "\n",
    "# Run validation\n",
    "validate_test_results()\n"
   ]
  }
 ],
 "metadata": {
  "kernelspec": {
   "display_name": "mic2e",
   "language": "python",
   "name": "python3"
  },
  "language_info": {
   "codemirror_mode": {
    "name": "ipython",
    "version": 3
   },
   "file_extension": ".py",
   "mimetype": "text/x-python",
   "name": "python",
   "nbconvert_exporter": "python",
   "pygments_lexer": "ipython3",
   "version": "3.10.18"
  }
 },
 "nbformat": 4,
 "nbformat_minor": 5
}
