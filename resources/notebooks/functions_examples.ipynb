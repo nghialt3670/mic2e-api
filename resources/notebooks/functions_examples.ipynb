{
 "cells": [
  {
   "cell_type": "markdown",
   "id": "665ae97e",
   "metadata": {},
   "source": [
    "# Chat2Edit Functions Test Notebook\n",
    "\n",
    "This notebook tests the chat2edit functions, decorators, and feedbacks to ensure they work correctly.\n"
   ]
  },
  {
   "cell_type": "code",
   "execution_count": 1,
   "id": "654cac52",
   "metadata": {},
   "outputs": [],
   "source": [
    "import sys\n",
    "sys.path.append('../..')"
   ]
  },
  {
   "cell_type": "code",
   "execution_count": 2,
   "id": "bb910e5d",
   "metadata": {},
   "outputs": [
    {
     "ename": "ImportError",
     "evalue": "cannot import name 'MissingAllOptionalParameterFeedback' from 'core.chat2edit.feedbacks' (d:\\Projects\\MIC2E\\mic2e-api\\resources\\notebooks\\../..\\core\\chat2edit\\feedbacks\\__init__.py)",
     "output_type": "error",
     "traceback": [
      "\u001b[1;31m---------------------------------------------------------------------------\u001b[0m",
      "\u001b[1;31mImportError\u001b[0m                               Traceback (most recent call last)",
      "Cell \u001b[1;32mIn[2], line 7\u001b[0m\n\u001b[0;32m      4\u001b[0m \u001b[38;5;28;01mfrom\u001b[39;00m\u001b[38;5;250m \u001b[39m\u001b[38;5;21;01mtyping\u001b[39;00m\u001b[38;5;250m \u001b[39m\u001b[38;5;28;01mimport\u001b[39;00m List\n\u001b[0;32m      6\u001b[0m \u001b[38;5;66;03m# Import our functions\u001b[39;00m\n\u001b[1;32m----> 7\u001b[0m \u001b[38;5;28;01mfrom\u001b[39;00m\u001b[38;5;250m \u001b[39m\u001b[38;5;21;01mcore\u001b[39;00m\u001b[38;5;21;01m.\u001b[39;00m\u001b[38;5;21;01mchat2edit\u001b[39;00m\u001b[38;5;21;01m.\u001b[39;00m\u001b[38;5;21;01mfunctions\u001b[39;00m\u001b[38;5;250m \u001b[39m\u001b[38;5;28;01mimport\u001b[39;00m (\n\u001b[0;32m      8\u001b[0m     apply_filter,\n\u001b[0;32m      9\u001b[0m     extract_object_by_sam,\n\u001b[0;32m     10\u001b[0m     extract_objects_by_label,\n\u001b[0;32m     11\u001b[0m     locate_entities,\n\u001b[0;32m     12\u001b[0m     remove_entities,\n\u001b[0;32m     13\u001b[0m     shift_entities\n\u001b[0;32m     14\u001b[0m )\n\u001b[0;32m     16\u001b[0m \u001b[38;5;66;03m# Import models\u001b[39;00m\n\u001b[0;32m     17\u001b[0m \u001b[38;5;28;01mfrom\u001b[39;00m\u001b[38;5;250m \u001b[39m\u001b[38;5;21;01mcore\u001b[39;00m\u001b[38;5;21;01m.\u001b[39;00m\u001b[38;5;21;01mchat2edit\u001b[39;00m\u001b[38;5;21;01m.\u001b[39;00m\u001b[38;5;21;01mmodels\u001b[39;00m\u001b[38;5;21;01m.\u001b[39;00m\u001b[38;5;21;01mimage\u001b[39;00m\u001b[38;5;250m \u001b[39m\u001b[38;5;28;01mimport\u001b[39;00m Image\n",
      "File \u001b[1;32md:\\Projects\\MIC2E\\mic2e-api\\resources\\notebooks\\../..\\core\\chat2edit\\functions\\__init__.py:1\u001b[0m\n\u001b[1;32m----> 1\u001b[0m \u001b[38;5;28;01mfrom\u001b[39;00m\u001b[38;5;250m \u001b[39m\u001b[38;5;21;01mcore\u001b[39;00m\u001b[38;5;21;01m.\u001b[39;00m\u001b[38;5;21;01mchat2edit\u001b[39;00m\u001b[38;5;21;01m.\u001b[39;00m\u001b[38;5;21;01mfunctions\u001b[39;00m\u001b[38;5;21;01m.\u001b[39;00m\u001b[38;5;21;01mapply_filter\u001b[39;00m\u001b[38;5;250m \u001b[39m\u001b[38;5;28;01mimport\u001b[39;00m apply_filter\n\u001b[0;32m      2\u001b[0m \u001b[38;5;28;01mfrom\u001b[39;00m\u001b[38;5;250m \u001b[39m\u001b[38;5;21;01mcore\u001b[39;00m\u001b[38;5;21;01m.\u001b[39;00m\u001b[38;5;21;01mchat2edit\u001b[39;00m\u001b[38;5;21;01m.\u001b[39;00m\u001b[38;5;21;01mfunctions\u001b[39;00m\u001b[38;5;21;01m.\u001b[39;00m\u001b[38;5;21;01mextract_object_by_sam\u001b[39;00m\u001b[38;5;250m \u001b[39m\u001b[38;5;28;01mimport\u001b[39;00m extract_object_by_sam\n\u001b[0;32m      3\u001b[0m \u001b[38;5;28;01mfrom\u001b[39;00m\u001b[38;5;250m \u001b[39m\u001b[38;5;21;01mcore\u001b[39;00m\u001b[38;5;21;01m.\u001b[39;00m\u001b[38;5;21;01mchat2edit\u001b[39;00m\u001b[38;5;21;01m.\u001b[39;00m\u001b[38;5;21;01mfunctions\u001b[39;00m\u001b[38;5;21;01m.\u001b[39;00m\u001b[38;5;21;01mextract_objects_by_label\u001b[39;00m\u001b[38;5;250m \u001b[39m\u001b[38;5;28;01mimport\u001b[39;00m extract_objects_by_label\n",
      "File \u001b[1;32md:\\Projects\\MIC2E\\mic2e-api\\resources\\notebooks\\../..\\core\\chat2edit\\functions\\apply_filter.py:9\u001b[0m\n\u001b[0;32m      2\u001b[0m \u001b[38;5;28;01mfrom\u001b[39;00m\u001b[38;5;250m \u001b[39m\u001b[38;5;21;01mtyping\u001b[39;00m\u001b[38;5;250m \u001b[39m\u001b[38;5;28;01mimport\u001b[39;00m List, Literal, Optional, Union\n\u001b[0;32m      4\u001b[0m \u001b[38;5;28;01mfrom\u001b[39;00m\u001b[38;5;250m \u001b[39m\u001b[38;5;21;01mchat2edit\u001b[39;00m\u001b[38;5;21;01m.\u001b[39;00m\u001b[38;5;21;01mexecution\u001b[39;00m\u001b[38;5;21;01m.\u001b[39;00m\u001b[38;5;21;01mdecorators\u001b[39;00m\u001b[38;5;250m \u001b[39m\u001b[38;5;28;01mimport\u001b[39;00m (\n\u001b[0;32m      5\u001b[0m     feedback_ignored_return_value,\n\u001b[0;32m      6\u001b[0m     feedback_unexpected_error,\n\u001b[0;32m      7\u001b[0m )\n\u001b[1;32m----> 9\u001b[0m \u001b[38;5;28;01mfrom\u001b[39;00m\u001b[38;5;250m \u001b[39m\u001b[38;5;21;01mcore\u001b[39;00m\u001b[38;5;21;01m.\u001b[39;00m\u001b[38;5;21;01mchat2edit\u001b[39;00m\u001b[38;5;21;01m.\u001b[39;00m\u001b[38;5;21;01mdecorators\u001b[39;00m\u001b[38;5;250m \u001b[39m\u001b[38;5;28;01mimport\u001b[39;00m feedback_empty_list_parameters\n\u001b[0;32m     10\u001b[0m \u001b[38;5;28;01mfrom\u001b[39;00m\u001b[38;5;250m \u001b[39m\u001b[38;5;21;01mcore\u001b[39;00m\u001b[38;5;21;01m.\u001b[39;00m\u001b[38;5;21;01mchat2edit\u001b[39;00m\u001b[38;5;21;01m.\u001b[39;00m\u001b[38;5;21;01mmodels\u001b[39;00m\u001b[38;5;21;01m.\u001b[39;00m\u001b[38;5;21;01mbox\u001b[39;00m\u001b[38;5;250m \u001b[39m\u001b[38;5;28;01mimport\u001b[39;00m Box\n\u001b[0;32m     11\u001b[0m \u001b[38;5;28;01mfrom\u001b[39;00m\u001b[38;5;250m \u001b[39m\u001b[38;5;21;01mcore\u001b[39;00m\u001b[38;5;21;01m.\u001b[39;00m\u001b[38;5;21;01mchat2edit\u001b[39;00m\u001b[38;5;21;01m.\u001b[39;00m\u001b[38;5;21;01mmodels\u001b[39;00m\u001b[38;5;21;01m.\u001b[39;00m\u001b[38;5;21;01mfabric\u001b[39;00m\u001b[38;5;21;01m.\u001b[39;00m\u001b[38;5;21;01mfilters\u001b[39;00m\u001b[38;5;250m \u001b[39m\u001b[38;5;28;01mimport\u001b[39;00m (\n\u001b[0;32m     12\u001b[0m     BlackWhiteFilter,\n\u001b[0;32m     13\u001b[0m     BlurFilter,\n\u001b[1;32m   (...)\u001b[0m\n\u001b[0;32m     17\u001b[0m     SaturationFilter,\n\u001b[0;32m     18\u001b[0m )\n",
      "File \u001b[1;32md:\\Projects\\MIC2E\\mic2e-api\\resources\\notebooks\\../..\\core\\chat2edit\\decorators\\__init__.py:7\u001b[0m\n\u001b[0;32m      1\u001b[0m \u001b[38;5;28;01mfrom\u001b[39;00m\u001b[38;5;250m \u001b[39m\u001b[38;5;21;01mcore\u001b[39;00m\u001b[38;5;21;01m.\u001b[39;00m\u001b[38;5;21;01mchat2edit\u001b[39;00m\u001b[38;5;21;01m.\u001b[39;00m\u001b[38;5;21;01mdecorators\u001b[39;00m\u001b[38;5;21;01m.\u001b[39;00m\u001b[38;5;21;01mfeedback_empty_list_parameters\u001b[39;00m\u001b[38;5;250m \u001b[39m\u001b[38;5;28;01mimport\u001b[39;00m (\n\u001b[0;32m      2\u001b[0m     feedback_empty_list_parameters,\n\u001b[0;32m      3\u001b[0m )\n\u001b[0;32m      4\u001b[0m \u001b[38;5;28;01mfrom\u001b[39;00m\u001b[38;5;250m \u001b[39m\u001b[38;5;21;01mcore\u001b[39;00m\u001b[38;5;21;01m.\u001b[39;00m\u001b[38;5;21;01mchat2edit\u001b[39;00m\u001b[38;5;21;01m.\u001b[39;00m\u001b[38;5;21;01mdecorators\u001b[39;00m\u001b[38;5;21;01m.\u001b[39;00m\u001b[38;5;21;01mfeedback_mismatch_list_parameters\u001b[39;00m\u001b[38;5;250m \u001b[39m\u001b[38;5;28;01mimport\u001b[39;00m (\n\u001b[0;32m      5\u001b[0m     feedback_mismatch_list_parameters,\n\u001b[0;32m      6\u001b[0m )\n\u001b[1;32m----> 7\u001b[0m \u001b[38;5;28;01mfrom\u001b[39;00m\u001b[38;5;250m \u001b[39m\u001b[38;5;21;01mcore\u001b[39;00m\u001b[38;5;21;01m.\u001b[39;00m\u001b[38;5;21;01mchat2edit\u001b[39;00m\u001b[38;5;21;01m.\u001b[39;00m\u001b[38;5;21;01mdecorators\u001b[39;00m\u001b[38;5;21;01m.\u001b[39;00m\u001b[38;5;21;01mfeedback_missing_all_optional_parameters\u001b[39;00m\u001b[38;5;250m \u001b[39m\u001b[38;5;28;01mimport\u001b[39;00m (\n\u001b[0;32m      8\u001b[0m     feedback_missing_all_optional_parameters,\n\u001b[0;32m      9\u001b[0m )\n\u001b[0;32m     11\u001b[0m __all__ \u001b[38;5;241m=\u001b[39m [\n\u001b[0;32m     12\u001b[0m     \u001b[38;5;124m\"\u001b[39m\u001b[38;5;124mfeedback_empty_list_parameters\u001b[39m\u001b[38;5;124m\"\u001b[39m,\n\u001b[0;32m     13\u001b[0m     \u001b[38;5;124m\"\u001b[39m\u001b[38;5;124mfeedback_mismatch_list_parameters\u001b[39m\u001b[38;5;124m\"\u001b[39m,\n\u001b[0;32m     14\u001b[0m     \u001b[38;5;124m\"\u001b[39m\u001b[38;5;124mfeedback_missing_all_optional_parameters\u001b[39m\u001b[38;5;124m\"\u001b[39m,\n\u001b[0;32m     15\u001b[0m ]\n",
      "File \u001b[1;32md:\\Projects\\MIC2E\\mic2e-api\\resources\\notebooks\\../..\\core\\chat2edit\\decorators\\feedback_missing_all_optional_parameters.py:8\u001b[0m\n\u001b[0;32m      5\u001b[0m \u001b[38;5;28;01mfrom\u001b[39;00m\u001b[38;5;250m \u001b[39m\u001b[38;5;21;01mchat2edit\u001b[39;00m\u001b[38;5;21;01m.\u001b[39;00m\u001b[38;5;21;01mexecution\u001b[39;00m\u001b[38;5;21;01m.\u001b[39;00m\u001b[38;5;21;01mexceptions\u001b[39;00m\u001b[38;5;250m \u001b[39m\u001b[38;5;28;01mimport\u001b[39;00m FeedbackException\n\u001b[0;32m      6\u001b[0m \u001b[38;5;28;01mfrom\u001b[39;00m\u001b[38;5;250m \u001b[39m\u001b[38;5;21;01mchat2edit\u001b[39;00m\u001b[38;5;21;01m.\u001b[39;00m\u001b[38;5;21;01mprompting\u001b[39;00m\u001b[38;5;21;01m.\u001b[39;00m\u001b[38;5;21;01mstubbing\u001b[39;00m\u001b[38;5;21;01m.\u001b[39;00m\u001b[38;5;21;01mdecorators\u001b[39;00m\u001b[38;5;250m \u001b[39m\u001b[38;5;28;01mimport\u001b[39;00m exclude_this_decorator\n\u001b[1;32m----> 8\u001b[0m \u001b[38;5;28;01mfrom\u001b[39;00m\u001b[38;5;250m \u001b[39m\u001b[38;5;21;01mcore\u001b[39;00m\u001b[38;5;21;01m.\u001b[39;00m\u001b[38;5;21;01mchat2edit\u001b[39;00m\u001b[38;5;21;01m.\u001b[39;00m\u001b[38;5;21;01mfeedbacks\u001b[39;00m\u001b[38;5;250m \u001b[39m\u001b[38;5;28;01mimport\u001b[39;00m MissingAllOptionalParameterFeedback\n\u001b[0;32m     11\u001b[0m \u001b[38;5;129m@exclude_this_decorator\u001b[39m\n\u001b[0;32m     12\u001b[0m \u001b[38;5;28;01mdef\u001b[39;00m\u001b[38;5;250m \u001b[39m\u001b[38;5;21mfeedback_missing_all_optional_parameters\u001b[39m(parameters: List[\u001b[38;5;28mstr\u001b[39m]) \u001b[38;5;241m-\u001b[39m\u001b[38;5;241m>\u001b[39m Callable:\n\u001b[0;32m     13\u001b[0m     \u001b[38;5;28;01mdef\u001b[39;00m\u001b[38;5;250m \u001b[39m\u001b[38;5;21mdecorator\u001b[39m(func: Callable) \u001b[38;5;241m-\u001b[39m\u001b[38;5;241m>\u001b[39m Callable:\n",
      "\u001b[1;31mImportError\u001b[0m: cannot import name 'MissingAllOptionalParameterFeedback' from 'core.chat2edit.feedbacks' (d:\\Projects\\MIC2E\\mic2e-api\\resources\\notebooks\\../..\\core\\chat2edit\\feedbacks\\__init__.py)"
     ]
    }
   ],
   "source": [
    "# Import necessary modules\n",
    "import asyncio\n",
    "from PIL import Image as PILImage\n",
    "from typing import List\n",
    "\n",
    "# Import our functions\n",
    "from core.chat2edit.functions import (\n",
    "    apply_filter,\n",
    "    extract_object_by_sam,\n",
    "    extract_objects_by_label,\n",
    "    locate_entities,\n",
    "    remove_entities,\n",
    "    shift_entities\n",
    ")\n",
    "\n",
    "# Import models\n",
    "from core.chat2edit.models.image import Image\n",
    "from core.chat2edit.models.object import Object\n",
    "from core.chat2edit.models.box import Box\n",
    "from core.chat2edit.models.point import Point\n",
    "\n",
    "# Import feedbacks to test error handling\n",
    "from core.chat2edit.feedbacks import (\n",
    "    EmptyListParametersFeedback,\n",
    "    MismatchListParametersFeedback,\n",
    "    MissingAllOptionalParameterFeedback\n",
    ")\n",
    "\n",
    "print(\"✅ All imports successful!\")\n"
   ]
  },
  {
   "cell_type": "markdown",
   "id": "c5cfde13",
   "metadata": {},
   "source": [
    "## 1. Create Test Image and Objects\n"
   ]
  },
  {
   "cell_type": "code",
   "execution_count": null,
   "id": "9dc84e03",
   "metadata": {},
   "outputs": [],
   "source": [
    "# Create a simple test image\n",
    "test_image = PILImage.new('RGB', (400, 300), color='lightblue')\n",
    "image = Image.from_image(test_image)\n",
    "\n",
    "# Create test objects\n",
    "object1 = Object()\n",
    "object1.left = 50\n",
    "object1.top = 50\n",
    "object1.width = 100\n",
    "object1.height = 80\n",
    "\n",
    "object2 = Object()\n",
    "object2.left = 200\n",
    "object2.top = 100\n",
    "object2.width = 120\n",
    "object2.height = 90\n",
    "\n",
    "# Add objects to image\n",
    "image.add_objects([object1, object2])\n",
    "\n",
    "print(f\"✅ Created test image with {len(image.objects)} objects\")\n",
    "print(f\"Image size: {image.get_image().size}\")\n",
    "print(f\"Object1 position: ({object1.left}, {object1.top})\")\n",
    "print(f\"Object2 position: ({object2.left}, {object2.top})\")\n"
   ]
  },
  {
   "cell_type": "markdown",
   "id": "c85c0551",
   "metadata": {},
   "source": [
    "## 2. Test apply_filter Function\n"
   ]
  },
  {
   "cell_type": "code",
   "execution_count": null,
   "id": "5d7801b3",
   "metadata": {},
   "outputs": [],
   "source": [
    "async def test_apply_filter():\n",
    "    \"\"\"Test the apply_filter function with different filters.\"\"\"\n",
    "    entities = [object1, object2]\n",
    "    \n",
    "    # Test black and white filter\n",
    "    result_image = await apply_filter(\n",
    "        image=image,\n",
    "        entities=entities,\n",
    "        filter_name=\"blackWhite\"\n",
    "    )\n",
    "    print(\"✅ Applied blackWhite filter\")\n",
    "    \n",
    "    # Test blur filter with value\n",
    "    result_image = await apply_filter(\n",
    "        image=result_image,\n",
    "        entities=entities,\n",
    "        filter_name=\"blur\",\n",
    "        filter_value=2.0\n",
    "    )\n",
    "    print(\"✅ Applied blur filter with value 2.0\")\n",
    "    \n",
    "    # Test brightness filter\n",
    "    result_image = await apply_filter(\n",
    "        image=result_image,\n",
    "        entities=entities,\n",
    "        filter_name=\"brightness\",\n",
    "        filter_value=0.3\n",
    "    )\n",
    "    print(\"✅ Applied brightness filter with value 0.3\")\n",
    "    \n",
    "    return result_image\n",
    "\n",
    "# Run the test\n",
    "result_image = await test_apply_filter()\n",
    "print(f\"✅ apply_filter test completed. Image has {len(result_image.objects)} objects\")\n"
   ]
  },
  {
   "cell_type": "markdown",
   "id": "b736b00a",
   "metadata": {},
   "source": [
    "## 3. Test locate_entities Function\n"
   ]
  },
  {
   "cell_type": "code",
   "execution_count": null,
   "id": "e54d9b4a",
   "metadata": {},
   "outputs": [],
   "source": [
    "async def test_locate_entities():\n",
    "    \"\"\"Test the locate_entities function.\"\"\"\n",
    "    entities = [object1, object2]\n",
    "    locations = [\"top-left\", \"bottom-right\"]\n",
    "    \n",
    "    result_image = await locate_entities(\n",
    "        image=result_image,\n",
    "        entities=entities,\n",
    "        locations=locations\n",
    "    )\n",
    "    \n",
    "    print(f\"✅ Moved entities to positions: {locations}\")\n",
    "    print(f\"Object1 new position: ({object1.left}, {object1.top})\")\n",
    "    print(f\"Object2 new position: ({object2.left}, {object2.top})\")\n",
    "    \n",
    "    return result_image\n",
    "\n",
    "# Run the test\n",
    "result_image = await test_locate_entities()\n"
   ]
  },
  {
   "cell_type": "markdown",
   "id": "af57e9e8",
   "metadata": {},
   "source": [
    "## 4. Test shift_entities Function\n"
   ]
  },
  {
   "cell_type": "code",
   "execution_count": null,
   "id": "5b32de90",
   "metadata": {},
   "outputs": [],
   "source": [
    "async def test_shift_entities():\n",
    "    \"\"\"Test the shift_entities function.\"\"\"\n",
    "    entities = [object1, object2]\n",
    "    offsets = [(10, 20), (-15, 30)]\n",
    "    \n",
    "    result_image = await shift_entities(\n",
    "        image=result_image,\n",
    "        entities=entities,\n",
    "        offsets=offsets,\n",
    "        unit=\"pixel\"\n",
    "    )\n",
    "    \n",
    "    print(f\"✅ Shifted entities by offsets: {offsets}\")\n",
    "    print(f\"Object1 new position: ({object1.left}, {object1.top})\")\n",
    "    print(f\"Object2 new position: ({object2.left}, {object2.top})\")\n",
    "    \n",
    "    return result_image\n",
    "\n",
    "# Run the test\n",
    "result_image = await test_shift_entities()\n"
   ]
  },
  {
   "cell_type": "markdown",
   "id": "6782bc76",
   "metadata": {},
   "source": [
    "## 5. Test Error Handling (Feedbacks)\n"
   ]
  },
  {
   "cell_type": "code",
   "execution_count": null,
   "id": "efb4c7fa",
   "metadata": {},
   "outputs": [],
   "source": [
    "async def test_error_handling():\n",
    "    \"\"\"Test error handling with various feedback scenarios.\"\"\"\n",
    "    \n",
    "    # Test 1: Empty entities list (should trigger EmptyListParametersFeedback)\n",
    "    try:\n",
    "        await apply_filter(\n",
    "            image=result_image,\n",
    "            entities=[],  # Empty list\n",
    "            filter_name=\"brightness\"\n",
    "        )\n",
    "        print(\"❌ Empty entities test failed - should have raised error\")\n",
    "    except Exception as e:\n",
    "        print(f\"✅ Empty entities test passed - caught error: {type(e).__name__}\")\n",
    "    \n",
    "    # Test 2: Mismatched list lengths (should trigger MismatchListParametersFeedback)\n",
    "    try:\n",
    "        await locate_entities(\n",
    "            image=result_image,\n",
    "            entities=[object1, object2],  # 2 entities\n",
    "            locations=[\"center\"]  # 1 location\n",
    "        )\n",
    "        print(\"❌ Mismatched lengths test failed - should have raised error\")\n",
    "    except Exception as e:\n",
    "        print(f\"✅ Mismatched lengths test passed - caught error: {type(e).__name__}\")\n",
    "    \n",
    "    # Test 3: Missing all optional parameters (should trigger MissingAllOptionalParameterFeedback)\n",
    "    try:\n",
    "        await extract_object_by_sam(\n",
    "            image=result_image\n",
    "            # No box, mask, or points provided\n",
    "        )\n",
    "        print(\"❌ Missing parameters test failed - should have raised error\")\n",
    "    except Exception as e:\n",
    "        print(f\"✅ Missing parameters test passed - caught error: {type(e).__name__}\")\n",
    "\n",
    "# Run error handling tests\n",
    "await test_error_handling()\n"
   ]
  },
  {
   "cell_type": "markdown",
   "id": "fbe1c14a",
   "metadata": {},
   "source": [
    "## 6. Test remove_entities Function\n"
   ]
  },
  {
   "cell_type": "code",
   "execution_count": null,
   "id": "b67b95a6",
   "metadata": {},
   "outputs": [],
   "source": [
    "async def test_remove_entities():\n",
    "    \"\"\"Test the remove_entities function.\"\"\"\n",
    "    # Create a copy for testing removal\n",
    "    test_image_copy = Image.from_image(result_image.get_image())\n",
    "    test_image_copy.add_objects([object1, object2])\n",
    "    \n",
    "    entities_to_remove = [object1]\n",
    "    \n",
    "    result_image = await remove_entities(\n",
    "        image=test_image_copy,\n",
    "        entities=entities_to_remove\n",
    "    )\n",
    "    \n",
    "    print(f\"✅ Removed {len(entities_to_remove)} entities\")\n",
    "    print(f\"Remaining objects in image: {len(result_image.objects)}\")\n",
    "    \n",
    "    return result_image\n",
    "\n",
    "# Run the test\n",
    "result_image = await test_remove_entities()\n"
   ]
  },
  {
   "cell_type": "markdown",
   "id": "58adfc66",
   "metadata": {},
   "source": [
    "## 7. Test Filter Application on Objects\n"
   ]
  },
  {
   "cell_type": "code",
   "execution_count": null,
   "id": "e154ae68",
   "metadata": {},
   "outputs": [],
   "source": [
    "async def test_filter_on_objects():\n",
    "    \"\"\"Test applying filters specifically to objects.\"\"\"\n",
    "    # Check if objects have filters applied\n",
    "    for i, obj in enumerate(result_image.objects):\n",
    "        print(f\"Object {i+1} filters: {len(obj.filters)} filters applied\")\n",
    "        for j, filter_dict in enumerate(obj.filters):\n",
    "            print(f\"  Filter {j+1}: {filter_dict.get('type', 'Unknown')}\")\n",
    "    \n",
    "    # Apply one more filter\n",
    "    if result_image.objects:\n",
    "        result_image = await apply_filter(\n",
    "            image=result_image,\n",
    "            entities=result_image.objects,\n",
    "            filter_name=\"contrast\",\n",
    "            filter_value=1.5\n",
    "        )\n",
    "        print(\"✅ Applied contrast filter to remaining objects\")\n",
    "    \n",
    "    return result_image\n",
    "\n",
    "# Run the test\n",
    "result_image = await test_filter_on_objects()\n"
   ]
  },
  {
   "cell_type": "markdown",
   "id": "673bb96b",
   "metadata": {},
   "source": [
    "## 8. Summary and Validation\n"
   ]
  },
  {
   "cell_type": "code",
   "execution_count": null,
   "id": "d4df3d1c",
   "metadata": {},
   "outputs": [],
   "source": [
    "def validate_test_results():\n",
    "    \"\"\"Validate that all tests completed successfully.\"\"\"\n",
    "    print(\"\\n\" + \"=\"*50)\n",
    "    print(\"TEST SUMMARY\")\n",
    "    print(\"=\"*50)\n",
    "    \n",
    "    # Check image state\n",
    "    print(f\"✅ Image size: {result_image.get_image().size}\")\n",
    "    print(f\"✅ Objects in image: {len(result_image.objects)}\")\n",
    "    \n",
    "    # Check object properties\n",
    "    for i, obj in enumerate(result_image.objects):\n",
    "        print(f\"✅ Object {i+1}: position=({obj.left}, {obj.top}), filters={len(obj.filters)}\")\n",
    "    \n",
    "    print(\"\\n✅ All functions tested successfully!\")\n",
    "    print(\"✅ Decorators working correctly!\")\n",
    "    print(\"✅ Feedbacks handling errors properly!\")\n",
    "    print(\"\\n🎉 Test notebook completed successfully!\")\n",
    "\n",
    "# Run validation\n",
    "validate_test_results()\n"
   ]
  }
 ],
 "metadata": {
  "kernelspec": {
   "display_name": "mic2e",
   "language": "python",
   "name": "python3"
  },
  "language_info": {
   "codemirror_mode": {
    "name": "ipython",
    "version": 3
   },
   "file_extension": ".py",
   "mimetype": "text/x-python",
   "name": "python",
   "nbconvert_exporter": "python",
   "pygments_lexer": "ipython3",
   "version": "3.10.18"
  }
 },
 "nbformat": 4,
 "nbformat_minor": 5
}
